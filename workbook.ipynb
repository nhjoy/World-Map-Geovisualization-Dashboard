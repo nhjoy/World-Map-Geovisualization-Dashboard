{
 "cells": [
  {
   "cell_type": "markdown",
   "metadata": {},
   "source": [
    "# <center>World Map Geovisualization using Folium and Covid Data"
   ]
  },
  {
   "cell_type": "markdown",
   "metadata": {},
   "source": [
    "### Import Libraries"
   ]
  },
  {
   "cell_type": "code",
   "execution_count": 8,
   "metadata": {},
   "outputs": [],
   "source": [
    "# importing Libraries\n",
    "\n",
    "import json\n",
    "import folium\n",
    "import requests\n",
    "import mimetypes\n",
    "import http.client\n",
    "import pandas as pd\n",
    "from folium.plugins import HeatMap\n",
    "from pandas.io.json import json_normalize"
   ]
  },
  {
   "cell_type": "markdown",
   "metadata": {},
   "source": [
    "### Access Data via API"
   ]
  },
  {
   "cell_type": "code",
   "execution_count": 9,
   "metadata": {},
   "outputs": [],
   "source": [
    "connect = http.client.HTTPSConnection(\"api.covid19api.com\") #connecting to the api\n",
    "payload = ''\n",
    "connect.request(\"GET\", \"/summary\", payload, headers ={})\n",
    "response = connect.getresponse()\n",
    "data = response.read().decode('UTF-8')"
   ]
  },
  {
   "cell_type": "markdown",
   "metadata": {},
   "source": [
    "### Convert Data to JSON"
   ]
  },
  {
   "cell_type": "code",
   "execution_count": 12,
   "metadata": {
    "tags": []
   },
   "outputs": [],
   "source": [
    "covid_data = json.loads(data)"
   ]
  },
  {
   "cell_type": "markdown",
   "metadata": {},
   "source": [
    "### Normalize Data "
   ]
  },
  {
   "cell_type": "code",
   "execution_count": 15,
   "metadata": {
    "scrolled": true
   },
   "outputs": [
    {
     "output_type": "execute_result",
     "data": {
      "text/plain": [
       "            Country CountryCode            Slug  NewConfirmed  TotalConfirmed  \\\n",
       "0       Afghanistan          AF     afghanistan            62           39548   \n",
       "1           Albania          AL         albania           162           14730   \n",
       "2           Algeria          DZ         algeria           121           52520   \n",
       "3           Andorra          AD         andorra           198            2568   \n",
       "4            Angola          AO          angola             0            5725   \n",
       "..              ...         ...             ...           ...             ...   \n",
       "183        Viet Nam          VN         vietnam             1            1099   \n",
       "184  Western Sahara          EH  western-sahara             0              10   \n",
       "185           Yemen          YE           yemen             2            2049   \n",
       "186          Zambia          ZM          zambia            54           15224   \n",
       "187        Zimbabwe          ZW        zimbabwe             4            7919   \n",
       "\n",
       "     NewDeaths  TotalDeaths  NewRecovered  TotalRecovered  \\\n",
       "0            2         1469            68           33045   \n",
       "1            4          407           150            9115   \n",
       "2            3         1771            94           36857   \n",
       "3            0           53           100            1715   \n",
       "4            0          211             0            2598   \n",
       "..         ...          ...           ...             ...   \n",
       "183          0           35             0            1023   \n",
       "184          0            1             0               8   \n",
       "185          0          593             1            1328   \n",
       "186          0          335            29           14342   \n",
       "187          0          229             1            6441   \n",
       "\n",
       "                     Date  \n",
       "0    2020-10-08T23:52:12Z  \n",
       "1    2020-10-08T23:52:12Z  \n",
       "2    2020-10-08T23:52:12Z  \n",
       "3    2020-10-08T23:52:12Z  \n",
       "4    2020-10-08T23:52:12Z  \n",
       "..                    ...  \n",
       "183  2020-10-08T23:52:12Z  \n",
       "184  2020-10-08T23:52:12Z  \n",
       "185  2020-10-08T23:52:12Z  \n",
       "186  2020-10-08T23:52:12Z  \n",
       "187  2020-10-08T23:52:12Z  \n",
       "\n",
       "[188 rows x 10 columns]"
      ],
      "text/html": "<div>\n<style scoped>\n    .dataframe tbody tr th:only-of-type {\n        vertical-align: middle;\n    }\n\n    .dataframe tbody tr th {\n        vertical-align: top;\n    }\n\n    .dataframe thead th {\n        text-align: right;\n    }\n</style>\n<table border=\"1\" class=\"dataframe\">\n  <thead>\n    <tr style=\"text-align: right;\">\n      <th></th>\n      <th>Country</th>\n      <th>CountryCode</th>\n      <th>Slug</th>\n      <th>NewConfirmed</th>\n      <th>TotalConfirmed</th>\n      <th>NewDeaths</th>\n      <th>TotalDeaths</th>\n      <th>NewRecovered</th>\n      <th>TotalRecovered</th>\n      <th>Date</th>\n    </tr>\n  </thead>\n  <tbody>\n    <tr>\n      <th>0</th>\n      <td>Afghanistan</td>\n      <td>AF</td>\n      <td>afghanistan</td>\n      <td>62</td>\n      <td>39548</td>\n      <td>2</td>\n      <td>1469</td>\n      <td>68</td>\n      <td>33045</td>\n      <td>2020-10-08T23:52:12Z</td>\n    </tr>\n    <tr>\n      <th>1</th>\n      <td>Albania</td>\n      <td>AL</td>\n      <td>albania</td>\n      <td>162</td>\n      <td>14730</td>\n      <td>4</td>\n      <td>407</td>\n      <td>150</td>\n      <td>9115</td>\n      <td>2020-10-08T23:52:12Z</td>\n    </tr>\n    <tr>\n      <th>2</th>\n      <td>Algeria</td>\n      <td>DZ</td>\n      <td>algeria</td>\n      <td>121</td>\n      <td>52520</td>\n      <td>3</td>\n      <td>1771</td>\n      <td>94</td>\n      <td>36857</td>\n      <td>2020-10-08T23:52:12Z</td>\n    </tr>\n    <tr>\n      <th>3</th>\n      <td>Andorra</td>\n      <td>AD</td>\n      <td>andorra</td>\n      <td>198</td>\n      <td>2568</td>\n      <td>0</td>\n      <td>53</td>\n      <td>100</td>\n      <td>1715</td>\n      <td>2020-10-08T23:52:12Z</td>\n    </tr>\n    <tr>\n      <th>4</th>\n      <td>Angola</td>\n      <td>AO</td>\n      <td>angola</td>\n      <td>0</td>\n      <td>5725</td>\n      <td>0</td>\n      <td>211</td>\n      <td>0</td>\n      <td>2598</td>\n      <td>2020-10-08T23:52:12Z</td>\n    </tr>\n    <tr>\n      <th>...</th>\n      <td>...</td>\n      <td>...</td>\n      <td>...</td>\n      <td>...</td>\n      <td>...</td>\n      <td>...</td>\n      <td>...</td>\n      <td>...</td>\n      <td>...</td>\n      <td>...</td>\n    </tr>\n    <tr>\n      <th>183</th>\n      <td>Viet Nam</td>\n      <td>VN</td>\n      <td>vietnam</td>\n      <td>1</td>\n      <td>1099</td>\n      <td>0</td>\n      <td>35</td>\n      <td>0</td>\n      <td>1023</td>\n      <td>2020-10-08T23:52:12Z</td>\n    </tr>\n    <tr>\n      <th>184</th>\n      <td>Western Sahara</td>\n      <td>EH</td>\n      <td>western-sahara</td>\n      <td>0</td>\n      <td>10</td>\n      <td>0</td>\n      <td>1</td>\n      <td>0</td>\n      <td>8</td>\n      <td>2020-10-08T23:52:12Z</td>\n    </tr>\n    <tr>\n      <th>185</th>\n      <td>Yemen</td>\n      <td>YE</td>\n      <td>yemen</td>\n      <td>2</td>\n      <td>2049</td>\n      <td>0</td>\n      <td>593</td>\n      <td>1</td>\n      <td>1328</td>\n      <td>2020-10-08T23:52:12Z</td>\n    </tr>\n    <tr>\n      <th>186</th>\n      <td>Zambia</td>\n      <td>ZM</td>\n      <td>zambia</td>\n      <td>54</td>\n      <td>15224</td>\n      <td>0</td>\n      <td>335</td>\n      <td>29</td>\n      <td>14342</td>\n      <td>2020-10-08T23:52:12Z</td>\n    </tr>\n    <tr>\n      <th>187</th>\n      <td>Zimbabwe</td>\n      <td>ZW</td>\n      <td>zimbabwe</td>\n      <td>4</td>\n      <td>7919</td>\n      <td>0</td>\n      <td>229</td>\n      <td>1</td>\n      <td>6441</td>\n      <td>2020-10-08T23:52:12Z</td>\n    </tr>\n  </tbody>\n</table>\n<p>188 rows × 10 columns</p>\n</div>"
     },
     "metadata": {},
     "execution_count": 15
    }
   ],
   "source": [
    "pd.json_normalize(covid_data['Countries'])"
   ]
  },
  {
   "cell_type": "markdown",
   "metadata": {},
   "source": [
    "### Convert to Pandas DataFrame"
   ]
  },
  {
   "cell_type": "code",
   "execution_count": 16,
   "metadata": {},
   "outputs": [
    {
     "output_type": "execute_result",
     "data": {
      "text/plain": [
       "               Country CountryCode                 Slug  NewConfirmed  \\\n",
       "0          Afghanistan          AF          afghanistan            62   \n",
       "1              Albania          AL              albania           162   \n",
       "2              Algeria          DZ              algeria           121   \n",
       "3              Andorra          AD              andorra           198   \n",
       "4               Angola          AO               angola             0   \n",
       "5  Antigua and Barbuda          AG  antigua-and-barbuda             1   \n",
       "6            Argentina          AR            argentina         16447   \n",
       "7              Armenia          AM              armenia           672   \n",
       "8            Australia          AU            australia            25   \n",
       "9              Austria          AT              austria          1029   \n",
       "\n",
       "   TotalConfirmed  NewDeaths  TotalDeaths  NewRecovered  TotalRecovered  \\\n",
       "0           39548          2         1469            68           33045   \n",
       "1           14730          4          407           150            9115   \n",
       "2           52520          3         1771            94           36857   \n",
       "3            2568          0           53           100            1715   \n",
       "4            5725          0          211             0            2598   \n",
       "5             108          0            3             1              97   \n",
       "6          840915        399        22226         10453          670725   \n",
       "7           53755          5          995           178           45110   \n",
       "8           27206          0          897            22           24937   \n",
       "9           50848          8          830           709           40499   \n",
       "\n",
       "                   Date Premium  \n",
       "0  2020-10-08T23:52:12Z      {}  \n",
       "1  2020-10-08T23:52:12Z      {}  \n",
       "2  2020-10-08T23:52:12Z      {}  \n",
       "3  2020-10-08T23:52:12Z      {}  \n",
       "4  2020-10-08T23:52:12Z      {}  \n",
       "5  2020-10-08T23:52:12Z      {}  \n",
       "6  2020-10-08T23:52:12Z      {}  \n",
       "7  2020-10-08T23:52:12Z      {}  \n",
       "8  2020-10-08T23:52:12Z      {}  \n",
       "9  2020-10-08T23:52:12Z      {}  "
      ],
      "text/html": "<div>\n<style scoped>\n    .dataframe tbody tr th:only-of-type {\n        vertical-align: middle;\n    }\n\n    .dataframe tbody tr th {\n        vertical-align: top;\n    }\n\n    .dataframe thead th {\n        text-align: right;\n    }\n</style>\n<table border=\"1\" class=\"dataframe\">\n  <thead>\n    <tr style=\"text-align: right;\">\n      <th></th>\n      <th>Country</th>\n      <th>CountryCode</th>\n      <th>Slug</th>\n      <th>NewConfirmed</th>\n      <th>TotalConfirmed</th>\n      <th>NewDeaths</th>\n      <th>TotalDeaths</th>\n      <th>NewRecovered</th>\n      <th>TotalRecovered</th>\n      <th>Date</th>\n      <th>Premium</th>\n    </tr>\n  </thead>\n  <tbody>\n    <tr>\n      <th>0</th>\n      <td>Afghanistan</td>\n      <td>AF</td>\n      <td>afghanistan</td>\n      <td>62</td>\n      <td>39548</td>\n      <td>2</td>\n      <td>1469</td>\n      <td>68</td>\n      <td>33045</td>\n      <td>2020-10-08T23:52:12Z</td>\n      <td>{}</td>\n    </tr>\n    <tr>\n      <th>1</th>\n      <td>Albania</td>\n      <td>AL</td>\n      <td>albania</td>\n      <td>162</td>\n      <td>14730</td>\n      <td>4</td>\n      <td>407</td>\n      <td>150</td>\n      <td>9115</td>\n      <td>2020-10-08T23:52:12Z</td>\n      <td>{}</td>\n    </tr>\n    <tr>\n      <th>2</th>\n      <td>Algeria</td>\n      <td>DZ</td>\n      <td>algeria</td>\n      <td>121</td>\n      <td>52520</td>\n      <td>3</td>\n      <td>1771</td>\n      <td>94</td>\n      <td>36857</td>\n      <td>2020-10-08T23:52:12Z</td>\n      <td>{}</td>\n    </tr>\n    <tr>\n      <th>3</th>\n      <td>Andorra</td>\n      <td>AD</td>\n      <td>andorra</td>\n      <td>198</td>\n      <td>2568</td>\n      <td>0</td>\n      <td>53</td>\n      <td>100</td>\n      <td>1715</td>\n      <td>2020-10-08T23:52:12Z</td>\n      <td>{}</td>\n    </tr>\n    <tr>\n      <th>4</th>\n      <td>Angola</td>\n      <td>AO</td>\n      <td>angola</td>\n      <td>0</td>\n      <td>5725</td>\n      <td>0</td>\n      <td>211</td>\n      <td>0</td>\n      <td>2598</td>\n      <td>2020-10-08T23:52:12Z</td>\n      <td>{}</td>\n    </tr>\n    <tr>\n      <th>5</th>\n      <td>Antigua and Barbuda</td>\n      <td>AG</td>\n      <td>antigua-and-barbuda</td>\n      <td>1</td>\n      <td>108</td>\n      <td>0</td>\n      <td>3</td>\n      <td>1</td>\n      <td>97</td>\n      <td>2020-10-08T23:52:12Z</td>\n      <td>{}</td>\n    </tr>\n    <tr>\n      <th>6</th>\n      <td>Argentina</td>\n      <td>AR</td>\n      <td>argentina</td>\n      <td>16447</td>\n      <td>840915</td>\n      <td>399</td>\n      <td>22226</td>\n      <td>10453</td>\n      <td>670725</td>\n      <td>2020-10-08T23:52:12Z</td>\n      <td>{}</td>\n    </tr>\n    <tr>\n      <th>7</th>\n      <td>Armenia</td>\n      <td>AM</td>\n      <td>armenia</td>\n      <td>672</td>\n      <td>53755</td>\n      <td>5</td>\n      <td>995</td>\n      <td>178</td>\n      <td>45110</td>\n      <td>2020-10-08T23:52:12Z</td>\n      <td>{}</td>\n    </tr>\n    <tr>\n      <th>8</th>\n      <td>Australia</td>\n      <td>AU</td>\n      <td>australia</td>\n      <td>25</td>\n      <td>27206</td>\n      <td>0</td>\n      <td>897</td>\n      <td>22</td>\n      <td>24937</td>\n      <td>2020-10-08T23:52:12Z</td>\n      <td>{}</td>\n    </tr>\n    <tr>\n      <th>9</th>\n      <td>Austria</td>\n      <td>AT</td>\n      <td>austria</td>\n      <td>1029</td>\n      <td>50848</td>\n      <td>8</td>\n      <td>830</td>\n      <td>709</td>\n      <td>40499</td>\n      <td>2020-10-08T23:52:12Z</td>\n      <td>{}</td>\n    </tr>\n  </tbody>\n</table>\n</div>"
     },
     "metadata": {},
     "execution_count": 16
    }
   ],
   "source": [
    "df = pd.DataFrame(covid_data['Countries'])\n",
    "df.head(10)"
   ]
  },
  {
   "cell_type": "markdown",
   "metadata": {},
   "source": [
    "### Drop Unnecessary Columns"
   ]
  },
  {
   "cell_type": "code",
   "execution_count": 18,
   "metadata": {},
   "outputs": [
    {
     "output_type": "execute_result",
     "data": {
      "text/plain": [
       "               Country  NewConfirmed  TotalConfirmed  NewDeaths  TotalDeaths  \\\n",
       "0          Afghanistan            62           39548          2         1469   \n",
       "1              Albania           162           14730          4          407   \n",
       "2              Algeria           121           52520          3         1771   \n",
       "3              Andorra           198            2568          0           53   \n",
       "4               Angola             0            5725          0          211   \n",
       "5  Antigua and Barbuda             1             108          0            3   \n",
       "6            Argentina         16447          840915        399        22226   \n",
       "7              Armenia           672           53755          5          995   \n",
       "8            Australia            25           27206          0          897   \n",
       "9              Austria          1029           50848          8          830   \n",
       "\n",
       "   NewRecovered  TotalRecovered  \n",
       "0            68           33045  \n",
       "1           150            9115  \n",
       "2            94           36857  \n",
       "3           100            1715  \n",
       "4             0            2598  \n",
       "5             1              97  \n",
       "6         10453          670725  \n",
       "7           178           45110  \n",
       "8            22           24937  \n",
       "9           709           40499  "
      ],
      "text/html": "<div>\n<style scoped>\n    .dataframe tbody tr th:only-of-type {\n        vertical-align: middle;\n    }\n\n    .dataframe tbody tr th {\n        vertical-align: top;\n    }\n\n    .dataframe thead th {\n        text-align: right;\n    }\n</style>\n<table border=\"1\" class=\"dataframe\">\n  <thead>\n    <tr style=\"text-align: right;\">\n      <th></th>\n      <th>Country</th>\n      <th>NewConfirmed</th>\n      <th>TotalConfirmed</th>\n      <th>NewDeaths</th>\n      <th>TotalDeaths</th>\n      <th>NewRecovered</th>\n      <th>TotalRecovered</th>\n    </tr>\n  </thead>\n  <tbody>\n    <tr>\n      <th>0</th>\n      <td>Afghanistan</td>\n      <td>62</td>\n      <td>39548</td>\n      <td>2</td>\n      <td>1469</td>\n      <td>68</td>\n      <td>33045</td>\n    </tr>\n    <tr>\n      <th>1</th>\n      <td>Albania</td>\n      <td>162</td>\n      <td>14730</td>\n      <td>4</td>\n      <td>407</td>\n      <td>150</td>\n      <td>9115</td>\n    </tr>\n    <tr>\n      <th>2</th>\n      <td>Algeria</td>\n      <td>121</td>\n      <td>52520</td>\n      <td>3</td>\n      <td>1771</td>\n      <td>94</td>\n      <td>36857</td>\n    </tr>\n    <tr>\n      <th>3</th>\n      <td>Andorra</td>\n      <td>198</td>\n      <td>2568</td>\n      <td>0</td>\n      <td>53</td>\n      <td>100</td>\n      <td>1715</td>\n    </tr>\n    <tr>\n      <th>4</th>\n      <td>Angola</td>\n      <td>0</td>\n      <td>5725</td>\n      <td>0</td>\n      <td>211</td>\n      <td>0</td>\n      <td>2598</td>\n    </tr>\n    <tr>\n      <th>5</th>\n      <td>Antigua and Barbuda</td>\n      <td>1</td>\n      <td>108</td>\n      <td>0</td>\n      <td>3</td>\n      <td>1</td>\n      <td>97</td>\n    </tr>\n    <tr>\n      <th>6</th>\n      <td>Argentina</td>\n      <td>16447</td>\n      <td>840915</td>\n      <td>399</td>\n      <td>22226</td>\n      <td>10453</td>\n      <td>670725</td>\n    </tr>\n    <tr>\n      <th>7</th>\n      <td>Armenia</td>\n      <td>672</td>\n      <td>53755</td>\n      <td>5</td>\n      <td>995</td>\n      <td>178</td>\n      <td>45110</td>\n    </tr>\n    <tr>\n      <th>8</th>\n      <td>Australia</td>\n      <td>25</td>\n      <td>27206</td>\n      <td>0</td>\n      <td>897</td>\n      <td>22</td>\n      <td>24937</td>\n    </tr>\n    <tr>\n      <th>9</th>\n      <td>Austria</td>\n      <td>1029</td>\n      <td>50848</td>\n      <td>8</td>\n      <td>830</td>\n      <td>709</td>\n      <td>40499</td>\n    </tr>\n  </tbody>\n</table>\n</div>"
     },
     "metadata": {},
     "execution_count": 18
    }
   ],
   "source": [
    "cdf = df.drop(columns=['CountryCode', 'Slug', 'Date', 'Premium'], axis=1)\n",
    "cdf.head(10)"
   ]
  },
  {
   "cell_type": "markdown",
   "metadata": {},
   "source": [
    "### Generate Base Map"
   ]
  },
  {
   "cell_type": "code",
   "execution_count": 24,
   "metadata": {},
   "outputs": [
    {
     "output_type": "execute_result",
     "data": {
      "text/plain": [
       "<folium.folium.Map at 0x29252712220>"
      ],
      "text/html": "<div style=\"width:100%;\"><div style=\"position:relative;width:100%;height:0;padding-bottom:60%;\"><span style=\"color:#565656\">Make this Notebook Trusted to load map: File -> Trust Notebook</span><iframe src=\"about:blank\" style=\"position:absolute;width:100%;height:100%;left:0;top:0;border:none !important;\" data-html=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 onload=\"this.contentDocument.open();this.contentDocument.write(atob(this.getAttribute('data-html')));this.contentDocument.close();\" allowfullscreen webkitallowfullscreen mozallowfullscreen></iframe></div></div>"
     },
     "metadata": {},
     "execution_count": 24
    }
   ],
   "source": [
    "base_map = folium.Map(tiles='Stamen Terrain', min_zoom=1.5)\n",
    "base_map"
   ]
  },
  {
   "cell_type": "markdown",
   "metadata": {},
   "source": [
    "### Obtain Geodata\n",
    "\n",
    "geodata url: https://raw.githubusercontent.com/python-visualization/folium/master/examples/data\n",
    "\n",
    "geo data file: world-countries.json"
   ]
  },
  {
   "cell_type": "code",
   "execution_count": 26,
   "metadata": {},
   "outputs": [],
   "source": [
    "url= 'https://raw.githubusercontent.com/python-visualization/folium/master/examples/data'\n",
    "country_shapes = f'{url}/world-countries.json'"
   ]
  },
  {
   "cell_type": "markdown",
   "metadata": {},
   "source": [
    "### Generate Choropleth Map Layer"
   ]
  },
  {
   "cell_type": "code",
   "execution_count": null,
   "metadata": {
    "scrolled": true
   },
   "outputs": [],
   "source": [
    "folium.Choropleth(\n",
    "    geo_data=country_, data=None, columns=None, key_on=None, bins=6, fill_color=None, nan_fill_color='black', fill_opacity=0.6, nan_fill_opacity=None, line_color='black', line_weight=1, line_opacity=1, name=None, legend_name='', overlay=True, control=True, show=True,\n",
    ")"
   ]
  },
  {
   "cell_type": "markdown",
   "metadata": {},
   "source": [
    "### Generate Circular Markers"
   ]
  },
  {
   "cell_type": "code",
   "execution_count": null,
   "metadata": {},
   "outputs": [],
   "source": []
  },
  {
   "cell_type": "markdown",
   "metadata": {},
   "source": [
    "coordinates of countries: https://raw.githubusercontent.com/VinitaSilaparasetty/covid-map/master/country-coordinates-world.csv"
   ]
  },
  {
   "cell_type": "code",
   "execution_count": null,
   "metadata": {},
   "outputs": [],
   "source": []
  },
  {
   "cell_type": "code",
   "execution_count": null,
   "metadata": {},
   "outputs": [],
   "source": []
  },
  {
   "cell_type": "code",
   "execution_count": null,
   "metadata": {},
   "outputs": [],
   "source": []
  },
  {
   "cell_type": "code",
   "execution_count": null,
   "metadata": {},
   "outputs": [],
   "source": []
  },
  {
   "cell_type": "markdown",
   "metadata": {},
   "source": [
    "### Generate Base Map"
   ]
  },
  {
   "cell_type": "code",
   "execution_count": null,
   "metadata": {},
   "outputs": [],
   "source": []
  },
  {
   "cell_type": "code",
   "execution_count": null,
   "metadata": {},
   "outputs": [],
   "source": []
  },
  {
   "cell_type": "code",
   "execution_count": null,
   "metadata": {},
   "outputs": [],
   "source": []
  },
  {
   "cell_type": "code",
   "execution_count": null,
   "metadata": {},
   "outputs": [],
   "source": []
  },
  {
   "cell_type": "markdown",
   "metadata": {},
   "source": [
    "### Generate Heat Map Layer"
   ]
  },
  {
   "cell_type": "code",
   "execution_count": null,
   "metadata": {},
   "outputs": [],
   "source": []
  },
  {
   "cell_type": "markdown",
   "metadata": {},
   "source": [
    "### Generate Circular Marker"
   ]
  },
  {
   "cell_type": "code",
   "execution_count": null,
   "metadata": {},
   "outputs": [],
   "source": []
  },
  {
   "cell_type": "code",
   "execution_count": null,
   "metadata": {},
   "outputs": [],
   "source": []
  }
 ],
 "metadata": {
  "kernelspec": {
   "name": "Python 3.8.5 64-bit",
   "display_name": "Python 3.8.5 64-bit",
   "metadata": {
    "interpreter": {
     "hash": "2db524e06e9f5f4ffedc911c917cb75e12dbc923643829bf417064a77eb14d37"
    }
   }
  },
  "language_info": {
   "codemirror_mode": {
    "name": "ipython",
    "version": 3
   },
   "file_extension": ".py",
   "mimetype": "text/x-python",
   "name": "python",
   "nbconvert_exporter": "python",
   "pygments_lexer": "ipython3",
   "version": "3.8.5-final"
  },
  "latex_envs": {
   "LaTeX_envs_menu_present": true,
   "autoclose": false,
   "autocomplete": true,
   "bibliofile": "biblio.bib",
   "cite_by": "apalike",
   "current_citInitial": 1,
   "eqLabelWithNumbers": true,
   "eqNumInitial": 1,
   "hotkeys": {
    "equation": "Ctrl-E",
    "itemize": "Ctrl-I"
   },
   "labels_anchors": false,
   "latex_user_defs": false,
   "report_style_numbering": false,
   "user_envs_cfg": false
  }
 },
 "nbformat": 4,
 "nbformat_minor": 4
}